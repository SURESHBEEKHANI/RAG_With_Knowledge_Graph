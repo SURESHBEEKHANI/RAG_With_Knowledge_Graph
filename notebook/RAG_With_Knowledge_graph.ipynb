{
  "cells": [
    {
      "cell_type": "markdown",
      "metadata": {
        "colab_type": "text",
        "id": "view-in-github"
      },
      "source": [
        "<a href=\"https://colab.research.google.com/github/sunnysavita10/Indepth-GENAI/blob/main/RAG_With_Knowledge_graph(Neo4j).ipynb\" target=\"_parent\"><img src=\"https://colab.research.google.com/assets/colab-badge.svg\" alt=\"Open In Colab\"/></a>"
      ]
    },
    {
      "cell_type": "markdown",
      "metadata": {
        "id": "xB3OyiU14byv"
      },
      "source": [
        "## **langchain-core**\n",
        "\n",
        "contains simple, core abstractions that have emerged as a standard, as well as LangChain Expression Language as a way to compose these components together. This package is now at version 0.1 and all breaking changes will be accompanied by a minor version bump.\n",
        "\n",
        "## **langchain-community**\n",
        "contains all third party integrations. We will work with partners on splitting key integrations out into standalone packages over the next month.\n",
        "\n",
        "## **langchain**\n",
        "contains higher-level and use-case specific chains, agents, and retrieval algorithms that are at the core of your application's cognitive architecture. We are targeting a launch of a stable 0.1 release for langchain in early January.#"
      ]
    },
    {
      "cell_type": "code",
      "execution_count": 2,
      "metadata": {},
      "outputs": [],
      "source": [
        "# Import statements for various modules and classes needed for the script.\n",
        "import os  # Basic operating system functionality\n",
        "from langchain_core.runnables import (  # Runnable classes for different types of operations\n",
        "    RunnableBranch,\n",
        "    RunnableLambda,\n",
        "    RunnableParallel,\n",
        "    RunnablePassthrough,\n",
        ")\n",
        "from langchain_core.prompts import ChatPromptTemplate  # Template for chat prompts\n",
        "from langchain_core.prompts.prompt import PromptTemplate  # Template for prompts\n",
        "from typing import Tuple, List, Optional  # Type hints for function signatures\n",
        "from langchain_core.messages import AIMessage, HumanMessage  # Message classes for AI and human interaction\n",
        "from langchain_core.output_parsers import StrOutputParser  # Parser for string outputs\n",
        "from langchain_core.runnables import ConfigurableField  # Configurable fields for operations\n",
        "from yfiles_jupyter_graphs import GraphWidget  # Widget for displaying graphs in Jupyter\n",
        "from neo4j import GraphDatabase  # Neo4j graph database connection\n",
        "from langchain_community.vectorstores import Neo4jVector  # Vector store using Neo4j\n",
        "from langchain_community.graphs import Neo4jGraph  # Graph operations using Neo4j\n",
        "from langchain.text_splitter import TokenTextSplitter  # Text splitter based on tokens\n",
        "from langchain_groq import ChatGroq  # Query language for chatting\n",
        "from langchain_experimental.graph_transformers import LLMGraphTransformer  # Experimental graph transformer\n",
        "from langchain_community.vectorstores.neo4j_vector import remove_lucene_chars\n",
        "import os\n",
        "from dotenv import load_dotenv"
      ]
    },
    {
      "cell_type": "code",
      "execution_count": 3,
      "metadata": {},
      "outputs": [],
      "source": [
        "# Load environment variables from the system\n",
        "NEO4J_URI = os.environ.get(\"NEO4J_URI\")  # Retrieves the Neo4j URI from environment variables\n",
        "NEO4J_USERNAME = os.environ.get(\"NEO4J_USERNAME\")  # Retrieves the Neo4j username\n",
        "NEO4J_PASSWORD = os.environ.get(\"NEO4J_PASSWORD\")  # Retrieves the Neo4j password\n",
        "GROQ_API_KEY = os.environ.get('GROQ_API_KEY')  # Retrieves the Groq API key\n",
        "\n",
        "# Setting environment variables for Neo4j and GROQ API in the current session\n",
        "os.environ[\"NEO4J_URI\"] = NEO4J_URI  # Stores the Neo4j URI in the environment variables\n",
        "os.environ[\"NEO4J_USERNAME\"] = NEO4J_USERNAME  # Stores the Neo4j username\n",
        "os.environ[\"NEO4J_PASSWORD\"] = NEO4J_PASSWORD  # Stores the Neo4j password\n",
        "os.environ['Groq_api_key'] = GROQ_API_KEY  # Stores the Groq API key in environment variables\n"
      ]
    },
    {
      "cell_type": "code",
      "execution_count": 41,
      "metadata": {},
      "outputs": [],
      "source": [
        "# Establish a connection to the Neo4j graph database\n",
        "graph = Neo4jGraph(\n",
        "    url=NEO4J_URI,        # Neo4j database URI\n",
        "    username=NEO4J_USERNAME,  # Username for authentication\n",
        "    password=NEO4J_PASSWORD,  # Password for authentication\n",
        ")"
      ]
    },
    {
      "cell_type": "code",
      "execution_count": 4,
      "metadata": {},
      "outputs": [
        {
          "name": "stdout",
          "output_type": "stream",
          "text": [
            "Ticket ID:\n",
            "{'source': 'F:\\\\GraphRAG-LLM\\\\data\\\\customer_support_tickets.csv', 'row': 0}\n"
          ]
        }
      ],
      "source": [
        "from langchain_community.document_loaders import CSVLoader\n",
        "\n",
        "# Define the path to your CSV file\n",
        "file_path = r\"F:\\GraphRAG-LLM\\data\\customer_support_tickets.csv\"\n",
        "\n",
        "# Initialize the CSVLoader\n",
        "loader = CSVLoader(file_path=file_path)\n",
        "\n",
        "# Load the documents\n",
        "raw_documents = loader.load()\n",
        "\n",
        "# Display content and metadata of the first document\n",
        "print(raw_documents[0].page_content[:10])\n",
        "print(raw_documents[0].metadata)\n"
      ]
    },
    {
      "cell_type": "code",
      "execution_count": 5,
      "metadata": {
        "colab": {
          "base_uri": "https://localhost:8080/"
        },
        "id": "ACWeDt0O7yc2",
        "outputId": "14415b49-96a8-4c23-e8f0-c962afbe1135"
      },
      "outputs": [
        {
          "data": {
            "text/plain": [
              "8469"
            ]
          },
          "execution_count": 5,
          "metadata": {},
          "output_type": "execute_result"
        }
      ],
      "source": [
        "len(raw_documents)"
      ]
    },
    {
      "cell_type": "code",
      "execution_count": 6,
      "metadata": {
        "colab": {
          "base_uri": "https://localhost:8080/"
        },
        "id": "skFy3n30732l",
        "outputId": "95a859ac-436a-4de9-e1fa-146aa92c07d0"
      },
      "outputs": [
        {
          "data": {
            "text/plain": [
              "[Document(metadata={'source': 'F:\\\\GraphRAG-LLM\\\\data\\\\customer_support_tickets.csv', 'row': 0}, page_content=\"Ticket ID: 1\\nCustomer Name: Marisa Obrien\\nCustomer Email: carrollallison@example.com\\nCustomer Age: 32\\nCustomer Gender: Other\\nProduct Purchased: GoPro Hero\\nDate of Purchase: 2021-03-22\\nTicket Type: Technical issue\\nTicket Subject: Product setup\\nTicket Description: I'm having an issue with the {product_purchased}. Please assist.\\n\\nYour billing zip code is: 71701.\\n\\nWe appreciate that you have requested a website address.\\n\\nPlease double check your email address. I've tried troubleshooting steps mentioned in the user manual, but the issue persists.\\nTicket Status: Pending Customer Response\\nResolution: \\nTicket Priority: Critical\\nTicket Channel: Social media\\nFirst Response Time: 2023-06-01 12:15:36\\nTime to Resolution: \\nCustomer Satisfaction Rating: \"),\n",
              " Document(metadata={'source': 'F:\\\\GraphRAG-LLM\\\\data\\\\customer_support_tickets.csv', 'row': 1}, page_content=\"Ticket ID: 2\\nCustomer Name: Jessica Rios\\nCustomer Email: clarkeashley@example.com\\nCustomer Age: 42\\nCustomer Gender: Female\\nProduct Purchased: LG Smart TV\\nDate of Purchase: 2021-05-22\\nTicket Type: Technical issue\\nTicket Subject: Peripheral compatibility\\nTicket Description: I'm having an issue with the {product_purchased}. Please assist.\\n\\nIf you need to change an existing product.\\n\\nI'm having an issue with the {product_purchased}. Please assist.\\n\\nIf The issue I'm facing is intermittent. Sometimes it works fine, but other times it acts up unexpectedly.\\nTicket Status: Pending Customer Response\\nResolution: \\nTicket Priority: Critical\\nTicket Channel: Chat\\nFirst Response Time: 2023-06-01 16:45:38\\nTime to Resolution: \\nCustomer Satisfaction Rating: \"),\n",
              " Document(metadata={'source': 'F:\\\\GraphRAG-LLM\\\\data\\\\customer_support_tickets.csv', 'row': 2}, page_content=\"Ticket ID: 3\\nCustomer Name: Christopher Robbins\\nCustomer Email: gonzalestracy@example.com\\nCustomer Age: 48\\nCustomer Gender: Other\\nProduct Purchased: Dell XPS\\nDate of Purchase: 2020-07-14\\nTicket Type: Technical issue\\nTicket Subject: Network problem\\nTicket Description: I'm facing a problem with my {product_purchased}. The {product_purchased} is not turning on. It was working fine until yesterday, but now it doesn't respond.\\n\\n1.8.3 I really I'm using the original charger that came with my {product_purchased}, but it's not charging properly.\\nTicket Status: Closed\\nResolution: Case maybe show recently my computer follow.\\nTicket Priority: Low\\nTicket Channel: Social media\\nFirst Response Time: 2023-06-01 11:14:38\\nTime to Resolution: 2023-06-01 18:05:38\\nCustomer Satisfaction Rating: 3.0\")]"
            ]
          },
          "execution_count": 6,
          "metadata": {},
          "output_type": "execute_result"
        }
      ],
      "source": [
        "raw_documents[:3]"
      ]
    },
    {
      "cell_type": "code",
      "execution_count": 7,
      "metadata": {
        "id": "5ChZ008I6paW"
      },
      "outputs": [],
      "source": [
        "# Initialize a text splitter that divides text into chunks of 512 tokens\n",
        "# with an overlap of 24 tokens to maintain context between chunks.\n",
        "text_splitter = TokenTextSplitter(chunk_size=512, chunk_overlap=24)\n",
        "\n",
        "# Split the first 100 raw documents into smaller chunks using the text splitter.\n",
        "documents = text_splitter.split_documents(raw_documents[:10])"
      ]
    },
    {
      "cell_type": "code",
      "execution_count": 5,
      "metadata": {},
      "outputs": [],
      "source": [
        "llm = ChatGroq(temperature=0, model=\"gemma2-9b-it\")"
      ]
    },
    {
      "cell_type": "code",
      "execution_count": 8,
      "metadata": {
        "id": "IMh_IpRb78rs"
      },
      "outputs": [],
      "source": [
        "# Initialize a language model (LLM) using ChatGroq with a specified temperature setting.\n",
        "# \"temperature=0\" ensures deterministic responses, reducing randomness.\n",
        "# The model being used is \"llama-3.3-70b-versatile\".\n",
        "llm = ChatGroq(temperature=0, model=\"gemma2-9b-it\")\n",
        "\n",
        "# Create an instance of LLMGraphTransformer, which will process documents\n",
        "# into a graph-based structure using the LLM.\n",
        "llm_transformer = LLMGraphTransformer(llm=llm)\n",
        "\n",
        "# Convert the previously split text documents into graph-based representations.\n",
        "# This transformation helps in structuring knowledge for better retrieval.\n",
        "graph_documents = llm_transformer.convert_to_graph_documents(documents)"
      ]
    },
    {
      "cell_type": "code",
      "execution_count": 9,
      "metadata": {
        "colab": {
          "base_uri": "https://localhost:8080/"
        },
        "id": "3Nwjd5yR92VE",
        "outputId": "1c707732-3f56-4228-be36-5e376a481aac"
      },
      "outputs": [
        {
          "data": {
            "text/plain": [
              "[GraphDocument(nodes=[Node(id='Marisa Obrien', type='Person', properties={})], relationships=[Relationship(source=Node(id='Marisa Obrien', type='Person', properties={}), target=Node(id='Carrollallison@Example.Com', type='Email', properties={}), type='HAS_EMAIL', properties={}), Relationship(source=Node(id='Marisa Obrien', type='Person', properties={}), target=Node(id='71701', type='Zip_code', properties={}), type='LIVES_IN', properties={}), Relationship(source=Node(id='Marisa Obrien', type='Person', properties={}), target=Node(id='Gopro Hero', type='Product', properties={}), type='PURCHASED', properties={})], source=Document(metadata={'source': 'F:\\\\GraphRAG-LLM\\\\data\\\\customer_support_tickets.csv', 'row': 0}, page_content=\"Ticket ID: 1\\nCustomer Name: Marisa Obrien\\nCustomer Email: carrollallison@example.com\\nCustomer Age: 32\\nCustomer Gender: Other\\nProduct Purchased: GoPro Hero\\nDate of Purchase: 2021-03-22\\nTicket Type: Technical issue\\nTicket Subject: Product setup\\nTicket Description: I'm having an issue with the {product_purchased}. Please assist.\\n\\nYour billing zip code is: 71701.\\n\\nWe appreciate that you have requested a website address.\\n\\nPlease double check your email address. I've tried troubleshooting steps mentioned in the user manual, but the issue persists.\\nTicket Status: Pending Customer Response\\nResolution: \\nTicket Priority: Critical\\nTicket Channel: Social media\\nFirst Response Time: 2023-06-01 12:15:36\\nTime to Resolution: \\nCustomer Satisfaction Rating: \")),\n",
              " GraphDocument(nodes=[Node(id='Jessica Rios', type='Person', properties={}), Node(id='Clarkeashley@Example.Com', type='Email', properties={}), Node(id='42', type='Age', properties={}), Node(id='Female', type='Gender', properties={}), Node(id='Lg Smart Tv', type='Product', properties={}), Node(id='2021-05-22', type='Date', properties={}), Node(id='Technical Issue', type='Ticket_type', properties={}), Node(id='Peripheral Compatibility', type='Ticket_subject', properties={}), Node(id='Pending Customer Response', type='Ticket_status', properties={}), Node(id='Critical', type='Ticket_priority', properties={}), Node(id='Chat', type='Ticket_channel', properties={}), Node(id='2023-06-01 16:45:38', type='First_response_time', properties={})], relationships=[Relationship(source=Node(id='Jessica Rios', type='Person', properties={}), target=Node(id='Clarkeashley@Example.Com', type='Email', properties={}), type='HAS_EMAIL', properties={}), Relationship(source=Node(id='Jessica Rios', type='Person', properties={}), target=Node(id='42', type='Age', properties={}), type='HAS_AGE', properties={}), Relationship(source=Node(id='Jessica Rios', type='Person', properties={}), target=Node(id='Female', type='Gender', properties={}), type='HAS_GENDER', properties={}), Relationship(source=Node(id='Jessica Rios', type='Person', properties={}), target=Node(id='Lg Smart Tv', type='Product', properties={}), type='PURCHASED', properties={}), Relationship(source=Node(id='Jessica Rios', type='Person', properties={}), target=Node(id='2021-05-22', type='Date', properties={}), type='PURCHASED_ON', properties={}), Relationship(source=Node(id='Jessica Rios', type='Person', properties={}), target=Node(id='Technical Issue', type='Ticket_type', properties={}), type='HAS_TICKET_TYPE', properties={}), Relationship(source=Node(id='Jessica Rios', type='Person', properties={}), target=Node(id='Peripheral Compatibility', type='Ticket_subject', properties={}), type='HAS_TICKET_SUBJECT', properties={}), Relationship(source=Node(id='Jessica Rios', type='Person', properties={}), target=Node(id='Pending Customer Response', type='Ticket_status', properties={}), type='HAS_TICKET_STATUS', properties={}), Relationship(source=Node(id='Jessica Rios', type='Person', properties={}), target=Node(id='Critical', type='Ticket_priority', properties={}), type='HAS_TICKET_PRIORITY', properties={}), Relationship(source=Node(id='Jessica Rios', type='Person', properties={}), target=Node(id='Chat', type='Ticket_channel', properties={}), type='USED_CHANNEL', properties={}), Relationship(source=Node(id='Jessica Rios', type='Person', properties={}), target=Node(id='2023-06-01 16:45:38', type='First_response_time', properties={}), type='FIRST_RESPONSE_TIME', properties={})], source=Document(metadata={'source': 'F:\\\\GraphRAG-LLM\\\\data\\\\customer_support_tickets.csv', 'row': 1}, page_content=\"Ticket ID: 2\\nCustomer Name: Jessica Rios\\nCustomer Email: clarkeashley@example.com\\nCustomer Age: 42\\nCustomer Gender: Female\\nProduct Purchased: LG Smart TV\\nDate of Purchase: 2021-05-22\\nTicket Type: Technical issue\\nTicket Subject: Peripheral compatibility\\nTicket Description: I'm having an issue with the {product_purchased}. Please assist.\\n\\nIf you need to change an existing product.\\n\\nI'm having an issue with the {product_purchased}. Please assist.\\n\\nIf The issue I'm facing is intermittent. Sometimes it works fine, but other times it acts up unexpectedly.\\nTicket Status: Pending Customer Response\\nResolution: \\nTicket Priority: Critical\\nTicket Channel: Chat\\nFirst Response Time: 2023-06-01 16:45:38\\nTime to Resolution: \\nCustomer Satisfaction Rating: \")),\n",
              " GraphDocument(nodes=[Node(id='Christopher Robbins', type='Person', properties={})], relationships=[Relationship(source=Node(id='Christopher Robbins', type='Person', properties={}), target=Node(id='Gonzales Tracy@Example.Com', type='Email', properties={}), type='HAS_EMAIL', properties={}), Relationship(source=Node(id='Christopher Robbins', type='Person', properties={}), target=Node(id='48', type='Age', properties={}), type='HAS_AGE', properties={}), Relationship(source=Node(id='Christopher Robbins', type='Person', properties={}), target=Node(id='Other', type='Gender', properties={}), type='HAS_GENDER', properties={}), Relationship(source=Node(id='Christopher Robbins', type='Person', properties={}), target=Node(id='Dell Xps', type='Product', properties={}), type='PURCHASED', properties={}), Relationship(source=Node(id='Dell Xps', type='Product', properties={}), target=Node(id='2020-07-14', type='Date', properties={}), type='PURCHASED_ON', properties={}), Relationship(source=Node(id='Christopher Robbins', type='Person', properties={}), target=Node(id='3', type='Ticket_id', properties={}), type='CREATED_TICKET', properties={}), Relationship(source=Node(id='3', type='Ticket_id', properties={}), target=Node(id='Technical Issue', type='Ticket_type', properties={}), type='HAS_TYPE', properties={}), Relationship(source=Node(id='3', type='Ticket_id', properties={}), target=Node(id='Network Problem', type='Ticket_subject', properties={}), type='HAS_SUBJECT', properties={}), Relationship(source=Node(id='3', type='Ticket_id', properties={}), target=Node(id='Closed', type='Ticket_status', properties={}), type='HAS_STATUS', properties={}), Relationship(source=Node(id='3', type='Ticket_id', properties={}), target=Node(id='Low', type='Ticket_priority', properties={}), type='HAS_PRIORITY', properties={}), Relationship(source=Node(id='3', type='Ticket_id', properties={}), target=Node(id='Social Media', type='Ticket_channel', properties={}), type='RECEIVED_THROUGH', properties={}), Relationship(source=Node(id='3', type='Ticket_id', properties={}), target=Node(id='2023-06-01 11:14:38', type='Timestamp', properties={}), type='FIRST_RESPONSE_TIME', properties={}), Relationship(source=Node(id='3', type='Ticket_id', properties={}), target=Node(id='2023-06-01 18:05:38', type='Timestamp', properties={}), type='RESOLUTION_TIME', properties={}), Relationship(source=Node(id='3', type='Ticket_id', properties={}), target=Node(id='3.0', type='Rating', properties={}), type='CUSTOMER_SATISFACTION_RATING', properties={})], source=Document(metadata={'source': 'F:\\\\GraphRAG-LLM\\\\data\\\\customer_support_tickets.csv', 'row': 2}, page_content=\"Ticket ID: 3\\nCustomer Name: Christopher Robbins\\nCustomer Email: gonzalestracy@example.com\\nCustomer Age: 48\\nCustomer Gender: Other\\nProduct Purchased: Dell XPS\\nDate of Purchase: 2020-07-14\\nTicket Type: Technical issue\\nTicket Subject: Network problem\\nTicket Description: I'm facing a problem with my {product_purchased}. The {product_purchased} is not turning on. It was working fine until yesterday, but now it doesn't respond.\\n\\n1.8.3 I really I'm using the original charger that came with my {product_purchased}, but it's not charging properly.\\nTicket Status: Closed\\nResolution: Case maybe show recently my computer follow.\\nTicket Priority: Low\\nTicket Channel: Social media\\nFirst Response Time: 2023-06-01 11:14:38\\nTime to Resolution: 2023-06-01 18:05:38\\nCustomer Satisfaction Rating: 3.0\")),\n",
              " GraphDocument(nodes=[Node(id='Christina Dillon', type='Person', properties={})], relationships=[Relationship(source=Node(id='Christina Dillon', type='Person', properties={}), target=Node(id='Bradleyolson@Example.Org', type='Email', properties={}), type='HAS_EMAIL', properties={}), Relationship(source=Node(id='Christina Dillon', type='Person', properties={}), target=Node(id='27', type='Age', properties={}), type='HAS_AGE', properties={}), Relationship(source=Node(id='Christina Dillon', type='Person', properties={}), target=Node(id='Female', type='Gender', properties={}), type='HAS_GENDER', properties={}), Relationship(source=Node(id='Christina Dillon', type='Person', properties={}), target=Node(id='Microsoft Office', type='Product', properties={}), type='PURCHASED', properties={}), Relationship(source=Node(id='Christina Dillon', type='Person', properties={}), target=Node(id='2020-11-13', type='Date', properties={}), type='PURCHASED_ON', properties={}), Relationship(source=Node(id='Christina Dillon', type='Person', properties={}), target=Node(id='Billing Inquiry', type='Ticket_type', properties={}), type='CREATED_TICKET_OF_TYPE', properties={}), Relationship(source=Node(id='Christina Dillon', type='Person', properties={}), target=Node(id='Account Access', type='Ticket_subject', properties={}), type='CREATED_TICKET_WITH_SUBJECT', properties={}), Relationship(source=Node(id='Christina Dillon', type='Person', properties={}), target=Node(id='Closed', type='Ticket_status', properties={}), type='TICKET_STATUS_IS', properties={}), Relationship(source=Node(id='Christina Dillon', type='Person', properties={}), target=Node(id='Low', type='Ticket_priority', properties={}), type='TICKET_PRIORITY_IS', properties={}), Relationship(source=Node(id='Christina Dillon', type='Person', properties={}), target=Node(id='Social Media', type='Ticket_channel', properties={}), type='TICKET_CHANNEL_IS', properties={}), Relationship(source=Node(id='Christina Dillon', type='Person', properties={}), target=Node(id='2023-06-01 07:29:40', type='Datetime', properties={}), type='FIRST_RESPONSE_TIME', properties={}), Relationship(source=Node(id='Christina Dillon', type='Person', properties={}), target=Node(id='2023-06-01 01:57:40', type='Datetime', properties={}), type='TIME_TO_RESOLUTION', properties={}), Relationship(source=Node(id='Christina Dillon', type='Person', properties={}), target=Node(id='3.0', type='Rating', properties={}), type='CUSTOMER_SATISFACTION_RATING', properties={})], source=Document(metadata={'source': 'F:\\\\GraphRAG-LLM\\\\data\\\\customer_support_tickets.csv', 'row': 3}, page_content=\"Ticket ID: 4\\nCustomer Name: Christina Dillon\\nCustomer Email: bradleyolson@example.org\\nCustomer Age: 27\\nCustomer Gender: Female\\nProduct Purchased: Microsoft Office\\nDate of Purchase: 2020-11-13\\nTicket Type: Billing inquiry\\nTicket Subject: Account access\\nTicket Description: I'm having an issue with the {product_purchased}. Please assist.\\n\\nIf you have a problem you're interested in and I'd love to see this happen, please check out the Feedback. I've already contacted customer support multiple times, but the issue remains unresolved.\\nTicket Status: Closed\\nResolution: Try capital clearly never color toward story.\\nTicket Priority: Low\\nTicket Channel: Social media\\nFirst Response Time: 2023-06-01 07:29:40\\nTime to Resolution: 2023-06-01 01:57:40\\nCustomer Satisfaction Rating: 3.0\")),\n",
              " GraphDocument(nodes=[Node(id='Alexander Carroll', type='Person', properties={})], relationships=[Relationship(source=Node(id='Alexander Carroll', type='Person', properties={}), target=Node(id='5', type='Ticket', properties={}), type='CREATED', properties={}), Relationship(source=Node(id='Alexander Carroll', type='Person', properties={}), target=Node(id='Bradleymark@Example.Com', type='Email', properties={}), type='HAS_EMAIL', properties={}), Relationship(source=Node(id='Alexander Carroll', type='Person', properties={}), target=Node(id='Autodesk Autocad', type='Software', properties={}), type='PURCHASED', properties={})], source=Document(metadata={'source': 'F:\\\\GraphRAG-LLM\\\\data\\\\customer_support_tickets.csv', 'row': 4}, page_content=\"Ticket ID: 5\\nCustomer Name: Alexander Carroll\\nCustomer Email: bradleymark@example.com\\nCustomer Age: 67\\nCustomer Gender: Female\\nProduct Purchased: Autodesk AutoCAD\\nDate of Purchase: 2020-02-04\\nTicket Type: Billing inquiry\\nTicket Subject: Data loss\\nTicket Description: I'm having an issue with the {product_purchased}. Please assist.\\n\\n\\nNote: The seller is not responsible for any damages arising out of the delivery of the battleground game. Please have the game in good condition and shipped to you I've noticed a sudden decrease in battery life on my {product_purchased}. It used to last much longer.\\nTicket Status: Closed\\nResolution: West decision evidence bit.\\nTicket Priority: Low\\nTicket Channel: Email\\nFirst Response Time: 2023-06-01 00:12:42\\nTime to Resolution: 2023-06-01 19:53:42\\nCustomer Satisfaction Rating: 1.0\"))]"
            ]
          },
          "execution_count": 9,
          "metadata": {},
          "output_type": "execute_result"
        }
      ],
      "source": [
        "graph_documents[:5]"
      ]
    },
    {
      "cell_type": "code",
      "execution_count": 10,
      "metadata": {
        "id": "ib_g3U1d97th"
      },
      "outputs": [],
      "source": [
        "# Add the graph-based documents to the existing knowledge graph.\n",
        "graph.add_graph_documents(\n",
        "    graph_documents,   # The structured graph documents generated from the LLM.\n",
        "    baseEntityLabel=True,  # Enables labeling of base entities for better organization and retrieval.\n",
        "    include_source=True  # Retains the original source information for traceability.\n",
        ")"
      ]
    },
    {
      "cell_type": "code",
      "execution_count": 6,
      "metadata": {
        "id": "rC-4O5FQ99yH"
      },
      "outputs": [],
      "source": [
        "# directly show the graph resulting from the given Cypher query\n",
        "default_cypher = \"MATCH (s)-[r:!MENTIONS]->(t) RETURN s,r,t LIMIT 50\""
      ]
    },
    {
      "cell_type": "code",
      "execution_count": 7,
      "metadata": {
        "id": "0Ll2WNnO-Ahf"
      },
      "outputs": [],
      "source": [
        "def showGraph(cypher: str = default_cypher):\n",
        "    # create a neo4j session to run queries\n",
        "    driver = GraphDatabase.driver(\n",
        "        uri = os.environ[\"NEO4J_URI\"],\n",
        "        auth = (os.environ[\"NEO4J_USERNAME\"],\n",
        "                os.environ[\"NEO4J_PASSWORD\"]))\n",
        "    session = driver.session()\n",
        "    widget = GraphWidget(graph = session.run(cypher).graph())\n",
        "    widget.node_label_mapping = 'id'\n",
        "    display(widget)\n",
        "    return widget"
      ]
    },
    {
      "cell_type": "code",
      "execution_count": 8,
      "metadata": {
        "colab": {
          "base_uri": "https://localhost:8080/",
          "height": 1000,
          "referenced_widgets": [
            "e8b6acc77d8f4d208b74b4f1d05144e5",
            "5caa1675fb9b47e89ceeab4a5aabb705"
          ]
        },
        "id": "kz-O4c0k-C_4",
        "outputId": "9d9fa858-6d4b-45cb-bc6c-9e39297ffbef"
      },
      "outputs": [
        {
          "data": {
            "application/vnd.jupyter.widget-view+json": {
              "model_id": "ad0e2d73b0814acd89a99818bc380b7e",
              "version_major": 2,
              "version_minor": 0
            },
            "text/plain": [
              "GraphWidget(layout=Layout(height='800px', width='100%'))"
            ]
          },
          "metadata": {},
          "output_type": "display_data"
        },
        {
          "data": {
            "application/vnd.jupyter.widget-view+json": {
              "model_id": "ad0e2d73b0814acd89a99818bc380b7e",
              "version_major": 2,
              "version_minor": 0
            },
            "text/plain": [
              "GraphWidget(layout=Layout(height='800px', width='100%'))"
            ]
          },
          "metadata": {},
          "output_type": "display_data"
        }
      ],
      "source": [
        "showGraph()"
      ]
    },
    {
      "cell_type": "code",
      "execution_count": 9,
      "metadata": {},
      "outputs": [],
      "source": [
        "google_api_key = os.environ.get(\"GEMINI_API_KEY\")\n",
        "\n",
        "\n",
        "# Use the API key safely\n",
        "from langchain_google_genai import GoogleGenerativeAIEmbeddings\n",
        "embeddings = GoogleGenerativeAIEmbeddings(model=\"models/embedding-001\", google_api_key=google_api_key)"
      ]
    },
    {
      "cell_type": "code",
      "execution_count": 42,
      "metadata": {
        "id": "M_JloAimBlcK"
      },
      "outputs": [],
      "source": [
        "vector_index = Neo4jVector.from_existing_graph(\n",
        "    embedding=embeddings,\n",
        "    search_type=\"hybrid\",\n",
        "    node_label=\"Document\",\n",
        "    text_node_properties=[\"text\"],\n",
        "    embedding_node_property=\"embedding\"\n",
        ")"
      ]
    },
    {
      "cell_type": "code",
      "execution_count": 11,
      "metadata": {
        "colab": {
          "base_uri": "https://localhost:8080/"
        },
        "id": "e0EXdSStG-Oe",
        "outputId": "d8c21f17-913c-4af0-acdb-1a9eb49dbba7"
      },
      "outputs": [
        {
          "data": {
            "text/plain": [
              "[]"
            ]
          },
          "execution_count": 11,
          "metadata": {},
          "output_type": "execute_result"
        }
      ],
      "source": [
        "graph.query(\"CREATE FULLTEXT INDEX entity IF NOT EXISTS FOR (e:__Entity__) ON EACH [e.id]\")"
      ]
    },
    {
      "cell_type": "code",
      "execution_count": 12,
      "metadata": {
        "id": "qksArGKrAvie"
      },
      "outputs": [
        {
          "name": "stderr",
          "output_type": "stream",
          "text": [
            "c:\\conda_envs\\agent\\lib\\site-packages\\IPython\\core\\interactiveshell.py:3577: LangChainDeprecationWarning: As of langchain-core 0.3.0, LangChain uses pydantic v2 internally. The langchain_core.pydantic_v1 module was a compatibility shim for pydantic v1, and should no longer be used. Please update the code to import from Pydantic directly.\n",
            "\n",
            "For example, replace imports like: `from langchain_core.pydantic_v1 import BaseModel`\n",
            "with: `from pydantic import BaseModel`\n",
            "or the v1 compatibility namespace if you are working in a code base that has not been fully upgraded to pydantic 2 yet. \tfrom pydantic.v1 import BaseModel\n",
            "\n",
            "  exec(code_obj, self.user_global_ns, self.user_ns)\n"
          ]
        }
      ],
      "source": [
        "from langchain_core.pydantic_v1 import BaseModel, Field\n",
        "# Extract entities from text\n",
        "class Entities(BaseModel):\n",
        "    \"\"\"Identifying information about entities.\"\"\"\n",
        "\n",
        "    names: List[str] = Field(\n",
        "        ...,\n",
        "        description=\"All the person, organization, or business entities that \"\n",
        "        \"appear in the text\",\n",
        "    )\n"
      ]
    },
    {
      "cell_type": "code",
      "execution_count": 13,
      "metadata": {
        "id": "xUobRC1wAx-_"
      },
      "outputs": [],
      "source": [
        "prompt = ChatPromptTemplate.from_messages(\n",
        "    [\n",
        "        (\n",
        "            \"system\",\n",
        "            \"You are extracting organization and person entities from the text.\",\n",
        "        ),\n",
        "        (\n",
        "            \"human\",\n",
        "            \"Use the given format to extract information from the following \"\n",
        "            \"input: {question}\",\n",
        "        ),\n",
        "    ]\n",
        ")"
      ]
    },
    {
      "cell_type": "code",
      "execution_count": 14,
      "metadata": {
        "id": "KGR6ocjkA0I_"
      },
      "outputs": [],
      "source": [
        "entity_chain = prompt | llm.with_structured_output(Entities)"
      ]
    },
    {
      "cell_type": "code",
      "execution_count": 18,
      "metadata": {
        "colab": {
          "base_uri": "https://localhost:8080/"
        },
        "id": "xPLkIEmkA2R2",
        "outputId": "fecf9433-32c4-4203-ad94-ca1c56ee60ee"
      },
      "outputs": [
        {
          "data": {
            "text/plain": [
              "['Jessica Rios']"
            ]
          },
          "execution_count": 18,
          "metadata": {},
          "output_type": "execute_result"
        }
      ],
      "source": [
        "entity_chain.invoke({\"question\": \"'Jessica Rios ?\"}).names"
      ]
    },
    {
      "cell_type": "code",
      "execution_count": 19,
      "metadata": {
        "id": "7gHCkvGKA86t"
      },
      "outputs": [],
      "source": [
        "def generate_full_text_query(input: str) -> str:\n",
        "    full_text_query = \"\"\n",
        "    words = [el for el in remove_lucene_chars(input).split() if el]\n",
        "    for word in words[:-1]:\n",
        "        full_text_query += f\" {word}~2 AND\"\n",
        "    full_text_query += f\" {words[-1]}~2\"\n",
        "    return full_text_query.strip()\n"
      ]
    },
    {
      "cell_type": "code",
      "execution_count": 20,
      "metadata": {
        "id": "kjPkmFJbA_lv"
      },
      "outputs": [],
      "source": [
        "# Fulltext index query\n",
        "def structured_retriever(question: str) -> str:\n",
        "    result = \"\"\n",
        "    entities = entity_chain.invoke({\"question\": question})\n",
        "    for entity in entities.names:\n",
        "        response = graph.query(\n",
        "            \"\"\"CALL db.index.fulltext.queryNodes('entity', $query, {limit:2})\n",
        "            YIELD node,score\n",
        "            CALL {\n",
        "              WITH node\n",
        "              MATCH (node)-[r:!MENTIONS]->(neighbor)\n",
        "              RETURN node.id + ' - ' + type(r) + ' -> ' + neighbor.id AS output\n",
        "              UNION ALL\n",
        "              WITH node\n",
        "              MATCH (node)<-[r:!MENTIONS]-(neighbor)\n",
        "              RETURN neighbor.id + ' - ' + type(r) + ' -> ' +  node.id AS output\n",
        "            }\n",
        "            RETURN output LIMIT 50\n",
        "            \"\"\",\n",
        "            {\"query\": generate_full_text_query(entity)},\n",
        "        )\n",
        "        result += \"\\n\".join([el['output'] for el in response])\n",
        "    return result"
      ]
    },
    {
      "cell_type": "code",
      "execution_count": 21,
      "metadata": {
        "colab": {
          "base_uri": "https://localhost:8080/"
        },
        "id": "nIla9QpzBA8u",
        "outputId": "c521c295-5964-45bd-9ce3-29c65ad3f823"
      },
      "outputs": [
        {
          "name": "stderr",
          "output_type": "stream",
          "text": [
            "C:\\Users\\SURESH BEEKHANI\\AppData\\Local\\Temp\\ipykernel_4168\\3894304667.py:3: LangChainDeprecationWarning: The function `remove_lucene_chars` was deprecated in LangChain 0.3.8 and will be removed in 1.0. An updated version of the function exists in the :meth:`~langchain-neo4j package and should be used instead. To use it run `pip install -U :meth:`~langchain-neo4j` and import as `from :meth:`~langchain_neo4j.vectorstores.neo4j_vector import remove_lucene_chars``.\n",
            "  words = [el for el in remove_lucene_chars(input).split() if el]\n",
            "Received notification from DBMS server: {severity: WARNING} {code: Neo.ClientNotification.Statement.FeatureDeprecationWarning} {category: DEPRECATION} {title: This feature is deprecated and will be removed in future versions.} {description: CALL subquery without a variable scope clause is now deprecated. Use CALL (node, node) { ... }} {position: line: 3, column: 13, offset: 104} for query: \"CALL db.index.fulltext.queryNodes('entity', $query, {limit:2})\\n            YIELD node,score\\n            CALL {\\n              WITH node\\n              MATCH (node)-[r:!MENTIONS]->(neighbor)\\n              RETURN node.id + ' - ' + type(r) + ' -> ' + neighbor.id AS output\\n              UNION ALL\\n              WITH node\\n              MATCH (node)<-[r:!MENTIONS]-(neighbor)\\n              RETURN neighbor.id + ' - ' + type(r) + ' -> ' +  node.id AS output\\n            }\\n            RETURN output LIMIT 50\\n            \"\n",
            "Received notification from DBMS server: {severity: WARNING} {code: Neo.ClientNotification.Statement.FeatureDeprecationWarning} {category: DEPRECATION} {title: This feature is deprecated and will be removed in future versions.} {description: CALL subquery without a variable scope clause is now deprecated. Use CALL (node, node) { ... }} {position: line: 3, column: 13, offset: 104} for query: \"CALL db.index.fulltext.queryNodes('entity', $query, {limit:2})\\n            YIELD node,score\\n            CALL {\\n              WITH node\\n              MATCH (node)-[r:!MENTIONS]->(neighbor)\\n              RETURN node.id + ' - ' + type(r) + ' -> ' + neighbor.id AS output\\n              UNION ALL\\n              WITH node\\n              MATCH (node)<-[r:!MENTIONS]-(neighbor)\\n              RETURN neighbor.id + ' - ' + type(r) + ' -> ' +  node.id AS output\\n            }\\n            RETURN output LIMIT 50\\n            \"\n"
          ]
        },
        {
          "name": "stdout",
          "output_type": "stream",
          "text": [
            "Marisa Obrien - PURCHASED -> Gopro Hero\n",
            "Marisa Obrien - HAS_EMAIL -> Carrollallison@Example.Com\n",
            "Marisa Obrien - LIVES_IN -> 71701Jessica Rios - PURCHASED -> Lg Smart Tv\n",
            "Jessica Rios - HAS_EMAIL -> Clarkeashley@Example.Com\n",
            "Jessica Rios - HAS_AGE -> 42\n",
            "Jessica Rios - HAS_GENDER -> Female\n",
            "Jessica Rios - PURCHASED_ON -> 2021-05-22\n",
            "Jessica Rios - HAS_TICKET_TYPE -> Technical Issue\n",
            "Jessica Rios - HAS_TICKET_SUBJECT -> Peripheral Compatibility\n",
            "Jessica Rios - HAS_TICKET_STATUS -> Pending Customer Response\n",
            "Jessica Rios - HAS_TICKET_PRIORITY -> Critical\n",
            "Jessica Rios - USED_CHANNEL -> Chat\n",
            "Jessica Rios - FIRST_RESPONSE_TIME -> 2023-06-01 16:45:38\n"
          ]
        }
      ],
      "source": [
        "print(structured_retriever(\"email of Marisa Obrien and 'Jessica Rios',??\"))"
      ]
    },
    {
      "cell_type": "code",
      "execution_count": 22,
      "metadata": {
        "id": "Zo1QoB_iBDfO"
      },
      "outputs": [],
      "source": [
        "def retriever(question: str):\n",
        "    print(f\"Search query: {question}\")\n",
        "    structured_data = structured_retriever(question)\n",
        "    unstructured_data = [el.page_content for el in vector_index.similarity_search(question)]\n",
        "    final_data = f\"\"\"Structured data:\n",
        "{structured_data}\n",
        "Unstructured data:\n",
        "{\"#Document \". join(unstructured_data)}\n",
        "    \"\"\"\n",
        "    return final_data"
      ]
    },
    {
      "cell_type": "code",
      "execution_count": 23,
      "metadata": {
        "id": "nDLnOXBTBFaf"
      },
      "outputs": [],
      "source": [
        "_template = \"\"\"Given the following conversation and a follow up question, rephrase the follow up question to be a standalone question,\n",
        "in its original language.\n",
        "Chat History:\n",
        "{chat_history}\n",
        "Follow Up Input: {question}\n",
        "Standalone question:\"\"\""
      ]
    },
    {
      "cell_type": "code",
      "execution_count": 24,
      "metadata": {
        "id": "hozfZicpBG2G"
      },
      "outputs": [],
      "source": [
        "CONDENSE_QUESTION_PROMPT = PromptTemplate.from_template(_template)"
      ]
    },
    {
      "cell_type": "code",
      "execution_count": 25,
      "metadata": {
        "id": "A9Oi3AEeBIPf"
      },
      "outputs": [],
      "source": [
        "def _format_chat_history(chat_history: List[Tuple[str, str]]) -> List:\n",
        "    buffer = []\n",
        "    for human, ai in chat_history:\n",
        "        buffer.append(HumanMessage(content=human))\n",
        "        buffer.append(AIMessage(content=ai))\n",
        "    return buffer"
      ]
    },
    {
      "cell_type": "code",
      "execution_count": 26,
      "metadata": {
        "id": "vXV65bjDBJwO"
      },
      "outputs": [],
      "source": [
        "_search_query = RunnableBranch(\n",
        "    # If input includes chat_history, we condense it with the follow-up question\n",
        "    (\n",
        "        RunnableLambda(lambda x: bool(x.get(\"chat_history\"))).with_config(\n",
        "            run_name=\"HasChatHistoryCheck\"\n",
        "        ),  # Condense follow-up question and chat into a standalone_question\n",
        "        RunnablePassthrough.assign(\n",
        "            chat_history=lambda x: _format_chat_history(x[\"chat_history\"])\n",
        "        )\n",
        "        | CONDENSE_QUESTION_PROMPT\n",
        "        | ChatGroq(temperature=0)\n",
        "        | StrOutputParser(),\n",
        "    ),\n",
        "    # Else, we have no chat history, so just pass through the question\n",
        "    RunnableLambda(lambda x : x[\"question\"]),\n",
        ")"
      ]
    },
    {
      "cell_type": "code",
      "execution_count": 27,
      "metadata": {
        "id": "zuVyoD1iBLgt"
      },
      "outputs": [],
      "source": [
        "template = \"\"\"Answer the question based only on the following context:\n",
        "{context}\n",
        "\n",
        "Question: {question}\n",
        "Use natural language and be concise.\n",
        "Answer:\"\"\""
      ]
    },
    {
      "cell_type": "code",
      "execution_count": 28,
      "metadata": {
        "id": "ehex9TRGBM4m"
      },
      "outputs": [],
      "source": [
        "prompt = ChatPromptTemplate.from_template(template)"
      ]
    },
    {
      "cell_type": "code",
      "execution_count": 34,
      "metadata": {
        "id": "UI6LVwkpBOOA"
      },
      "outputs": [],
      "source": [
        "chain = (\n",
        "    RunnableParallel(\n",
        "        {\n",
        "            \"context\": _search_query | retriever,\n",
        "            \"question\": RunnablePassthrough(),\n",
        "        }\n",
        "    )\n",
        "    | prompt\n",
        "    | llm\n",
        "    | StrOutputParser()\n",
        ")"
      ]
    },
    {
      "cell_type": "code",
      "execution_count": 36,
      "metadata": {
        "colab": {
          "base_uri": "https://localhost:8080/",
          "height": 54
        },
        "id": "GZAq-jz3BOrn",
        "outputId": "d438df41-4a7e-437a-a022-902d8290e4cb"
      },
      "outputs": [
        {
          "name": "stdout",
          "output_type": "stream",
          "text": [
            "Search query: email of Marisa Obrien and Jessica Rios?\n"
          ]
        },
        {
          "name": "stderr",
          "output_type": "stream",
          "text": [
            "Received notification from DBMS server: {severity: WARNING} {code: Neo.ClientNotification.Statement.FeatureDeprecationWarning} {category: DEPRECATION} {title: This feature is deprecated and will be removed in future versions.} {description: CALL subquery without a variable scope clause is now deprecated. Use CALL (node, node) { ... }} {position: line: 3, column: 13, offset: 104} for query: \"CALL db.index.fulltext.queryNodes('entity', $query, {limit:2})\\n            YIELD node,score\\n            CALL {\\n              WITH node\\n              MATCH (node)-[r:!MENTIONS]->(neighbor)\\n              RETURN node.id + ' - ' + type(r) + ' -> ' + neighbor.id AS output\\n              UNION ALL\\n              WITH node\\n              MATCH (node)<-[r:!MENTIONS]-(neighbor)\\n              RETURN neighbor.id + ' - ' + type(r) + ' -> ' +  node.id AS output\\n            }\\n            RETURN output LIMIT 50\\n            \"\n",
            "Received notification from DBMS server: {severity: WARNING} {code: Neo.ClientNotification.Statement.FeatureDeprecationWarning} {category: DEPRECATION} {title: This feature is deprecated and will be removed in future versions.} {description: CALL subquery without a variable scope clause is now deprecated. Use CALL (node, node) { ... }} {position: line: 3, column: 13, offset: 104} for query: \"CALL db.index.fulltext.queryNodes('entity', $query, {limit:2})\\n            YIELD node,score\\n            CALL {\\n              WITH node\\n              MATCH (node)-[r:!MENTIONS]->(neighbor)\\n              RETURN node.id + ' - ' + type(r) + ' -> ' + neighbor.id AS output\\n              UNION ALL\\n              WITH node\\n              MATCH (node)<-[r:!MENTIONS]-(neighbor)\\n              RETURN neighbor.id + ' - ' + type(r) + ' -> ' +  node.id AS output\\n            }\\n            RETURN output LIMIT 50\\n            \"\n",
            "Received notification from DBMS server: {severity: WARNING} {code: Neo.ClientNotification.Statement.FeatureDeprecationWarning} {category: DEPRECATION} {title: This feature is deprecated and will be removed in future versions.} {description: CALL subquery without a variable scope clause is now deprecated. Use CALL () { ... }} {position: line: 1, column: 1, offset: 0} for query: \"CALL { CALL db.index.vector.queryNodes($index, $k, $embedding) YIELD node, score WITH collect({node:node, score:score}) AS nodes, max(score) AS max UNWIND nodes AS n RETURN n.node AS node, (n.score / max) AS score UNION CALL db.index.fulltext.queryNodes($keyword_index, $query, {limit: $k}) YIELD node, score WITH collect({node:node, score:score}) AS nodes, max(score) AS max UNWIND nodes AS n RETURN n.node AS node, (n.score / max) AS score } WITH node, max(score) AS score ORDER BY score DESC LIMIT $k RETURN reduce(str='', k IN ['text'] | str + '\\\\n' + k + ': ' + coalesce(node[k], '')) AS text, node {.*, `embedding`: Null, id: Null, `text`: Null} AS metadata, score\"\n"
          ]
        },
        {
          "data": {
            "text/plain": [
              "\"Marisa Obrien's email is carrollallison@example.com and Jessica Rios's email is clarkeashley@example.com.  \\n\""
            ]
          },
          "execution_count": 36,
          "metadata": {},
          "output_type": "execute_result"
        }
      ],
      "source": [
        "chain.invoke({\"question\":  \"email of Marisa Obrien and Jessica Rios?\"})"
      ]
    }
  ],
  "metadata": {
    "accelerator": "GPU",
    "colab": {
      "authorship_tag": "ABX9TyMIuVjJKqR/9fsypmYd/Dng",
      "gpuType": "T4",
      "include_colab_link": true,
      "provenance": []
    },
    "kernelspec": {
      "display_name": "agent",
      "language": "python",
      "name": "python3"
    },
    "language_info": {
      "codemirror_mode": {
        "name": "ipython",
        "version": 3
      },
      "file_extension": ".py",
      "mimetype": "text/x-python",
      "name": "python",
      "nbconvert_exporter": "python",
      "pygments_lexer": "ipython3",
      "version": "3.10.16"
    },
    "widgets": {
      "application/vnd.jupyter.widget-state+json": {
        "5caa1675fb9b47e89ceeab4a5aabb705": {
          "model_module": "@jupyter-widgets/base",
          "model_module_version": "1.2.0",
          "model_name": "LayoutModel",
          "state": {
            "_model_module": "@jupyter-widgets/base",
            "_model_module_version": "1.2.0",
            "_model_name": "LayoutModel",
            "_view_count": null,
            "_view_module": "@jupyter-widgets/base",
            "_view_module_version": "1.2.0",
            "_view_name": "LayoutView",
            "align_content": null,
            "align_items": null,
            "align_self": null,
            "border": null,
            "bottom": null,
            "display": null,
            "flex": null,
            "flex_flow": null,
            "grid_area": null,
            "grid_auto_columns": null,
            "grid_auto_flow": null,
            "grid_auto_rows": null,
            "grid_column": null,
            "grid_gap": null,
            "grid_row": null,
            "grid_template_areas": null,
            "grid_template_columns": null,
            "grid_template_rows": null,
            "height": "800px",
            "justify_content": null,
            "justify_items": null,
            "left": null,
            "margin": null,
            "max_height": null,
            "max_width": null,
            "min_height": null,
            "min_width": null,
            "object_fit": null,
            "object_position": null,
            "order": null,
            "overflow": null,
            "overflow_x": null,
            "overflow_y": null,
            "padding": null,
            "right": null,
            "top": null,
            "visibility": null,
            "width": "100%"
          }
        },
        "e8b6acc77d8f4d208b74b4f1d05144e5": {
          "model_module": "yfiles-jupyter-graphs",
          "model_module_version": "^1.6.2",
          "model_name": "GraphModel",
          "state": {
            "_context_pane_mapping": [
              {
                "id": "Neighborhood",
                "title": "Neighborhood"
              },
              {
                "id": "Data",
                "title": "Data"
              },
              {
                "id": "Search",
                "title": "Search"
              },
              {
                "id": "About",
                "title": "About"
              }
            ],
            "_data_importer": "neo4j",
            "_directed": true,
            "_dom_classes": [],
            "_edges": [
              {
                "color": "#9C27B0",
                "directed": true,
                "end": 2,
                "id": 1152922604118474800,
                "label": "RULED",
                "properties": {
                  "label": "RULED"
                },
                "start": 1,
                "thickness_factor": 1
              },
              {
                "color": "#9C27B0",
                "directed": true,
                "end": 3,
                "id": 1155174403932160000,
                "label": "RULED",
                "properties": {
                  "label": "RULED"
                },
                "start": 1,
                "thickness_factor": 1
              },
              {
                "color": "#2196F3",
                "directed": true,
                "end": 4,
                "id": 1152923703630102500,
                "label": "BELONGS_TO",
                "properties": {
                  "label": "BELONGS_TO"
                },
                "start": 1,
                "thickness_factor": 1
              },
              {
                "color": "#4CAF50",
                "directed": true,
                "end": 5,
                "id": 1152924803141730300,
                "label": "CHILD_OF",
                "properties": {
                  "label": "CHILD_OF"
                },
                "start": 1,
                "thickness_factor": 1
              },
              {
                "color": "#4CAF50",
                "directed": true,
                "end": 6,
                "id": 1155176602955415600,
                "label": "CHILD_OF",
                "properties": {
                  "label": "CHILD_OF"
                },
                "start": 1,
                "thickness_factor": 1
              },
              {
                "color": "#F44336",
                "directed": true,
                "end": 7,
                "id": 1152925902653358000,
                "label": "HALF-SISTER_OF",
                "properties": {
                  "label": "HALF-SISTER_OF"
                },
                "start": 1,
                "thickness_factor": 1
              },
              {
                "color": "#F44336",
                "directed": true,
                "end": 9,
                "id": 1155177702467043300,
                "label": "HALF-SISTER_OF",
                "properties": {
                  "label": "HALF-SISTER_OF"
                },
                "start": 1,
                "thickness_factor": 1
              },
              {
                "color": "#607D8B",
                "directed": true,
                "end": 8,
                "id": 1152927002164985900,
                "label": "IGNORED_CLAIMS_OF",
                "properties": {
                  "label": "IGNORED_CLAIMS_OF"
                },
                "start": 1,
                "thickness_factor": 1
              },
              {
                "color": "#673AB7",
                "directed": true,
                "end": 10,
                "id": 1152928101676613600,
                "label": "DEPENDS_ON",
                "properties": {
                  "label": "DEPENDS_ON"
                },
                "start": 1,
                "thickness_factor": 1
              },
              {
                "color": "#673AB7",
                "directed": true,
                "end": 16,
                "id": 1155179901490299000,
                "label": "DEPENDS_ON",
                "properties": {
                  "label": "DEPENDS_ON"
                },
                "start": 1,
                "thickness_factor": 1
              },
              {
                "color": "#CDDC39",
                "directed": true,
                "end": 11,
                "id": 1152929201188241400,
                "label": "CREATED_TITLE",
                "properties": {
                  "label": "CREATED_TITLE"
                },
                "start": 1,
                "thickness_factor": 1
              },
              {
                "color": "#9E9E9E",
                "directed": true,
                "end": 12,
                "id": 1152930300699869200,
                "label": "SUCCEEDED_BY",
                "properties": {
                  "label": "SUCCEEDED_BY"
                },
                "start": 1,
                "thickness_factor": 1
              },
              {
                "color": "#9C27B0",
                "directed": true,
                "end": 13,
                "id": 1152931400211497000,
                "label": "MOTHER_OF",
                "properties": {
                  "label": "MOTHER_OF"
                },
                "start": 1,
                "thickness_factor": 1
              },
              {
                "color": "#2196F3",
                "directed": true,
                "end": 14,
                "id": 1152932499723124700,
                "label": "MANOEUVRING_BETWEEN",
                "properties": {
                  "label": "MANOEUVRING_BETWEEN"
                },
                "start": 1,
                "thickness_factor": 1
              },
              {
                "color": "#2196F3",
                "directed": true,
                "end": 15,
                "id": 1155184299536810000,
                "label": "MANOEUVRING_BETWEEN",
                "properties": {
                  "label": "MANOEUVRING_BETWEEN"
                },
                "start": 1,
                "thickness_factor": 1
              },
              {
                "color": "#4CAF50",
                "directed": true,
                "end": 12,
                "id": 6917560913478287000,
                "label": "SUCCESSOR",
                "properties": {
                  "label": "SUCCESSOR"
                },
                "start": 1,
                "thickness_factor": 1
              },
              {
                "color": "#4CAF50",
                "directed": true,
                "end": 1,
                "id": 1157456990071423000,
                "label": "SUCCESSOR",
                "properties": {
                  "label": "SUCCESSOR"
                },
                "start": 5,
                "thickness_factor": 1
              },
              {
                "color": "#4CAF50",
                "directed": true,
                "end": 7,
                "id": 1152953390444052500,
                "label": "SUCCESSOR",
                "properties": {
                  "label": "SUCCESSOR"
                },
                "start": 5,
                "thickness_factor": 1
              },
              {
                "color": "#4CAF50",
                "directed": true,
                "end": 54,
                "id": 1155205190257737700,
                "label": "SUCCESSOR",
                "properties": {
                  "label": "SUCCESSOR"
                },
                "start": 5,
                "thickness_factor": 1
              },
              {
                "color": "#4CAF50",
                "directed": true,
                "end": 55,
                "id": 1159708789885108200,
                "label": "SUCCESSOR",
                "properties": {
                  "label": "SUCCESSOR"
                },
                "start": 5,
                "thickness_factor": 1
              },
              {
                "color": "#4CAF50",
                "directed": true,
                "end": 56,
                "id": 1161960589698793500,
                "label": "SUCCESSOR",
                "properties": {
                  "label": "SUCCESSOR"
                },
                "start": 5,
                "thickness_factor": 1
              },
              {
                "color": "#4CAF50",
                "directed": true,
                "end": 57,
                "id": 1164212389512478700,
                "label": "SUCCESSOR",
                "properties": {
                  "label": "SUCCESSOR"
                },
                "start": 5,
                "thickness_factor": 1
              },
              {
                "color": "#4CAF50",
                "directed": true,
                "end": 58,
                "id": 1166464189326164000,
                "label": "SUCCESSOR",
                "properties": {
                  "label": "SUCCESSOR"
                },
                "start": 5,
                "thickness_factor": 1
              },
              {
                "color": "#F44336",
                "directed": true,
                "end": 63,
                "id": 1155197493676343300,
                "label": "PARENT",
                "properties": {
                  "label": "PARENT"
                },
                "start": 13,
                "thickness_factor": 1
              },
              {
                "color": "#F44336",
                "directed": true,
                "end": 65,
                "id": 1152945693862658000,
                "label": "PARENT",
                "properties": {
                  "label": "PARENT"
                },
                "start": 13,
                "thickness_factor": 1
              },
              {
                "color": "#4CAF50",
                "directed": true,
                "end": 18,
                "id": 1152953390444052500,
                "label": "SUCCESSOR",
                "properties": {
                  "label": "SUCCESSOR"
                },
                "start": 13,
                "thickness_factor": 1
              },
              {
                "color": "#607D8B",
                "directed": true,
                "end": 3,
                "id": 1159688998675808300,
                "label": "WAR",
                "properties": {
                  "label": "WAR"
                },
                "start": 18,
                "thickness_factor": 1
              },
              {
                "color": "#607D8B",
                "directed": true,
                "end": 14,
                "id": 1157437198862123000,
                "label": "WAR",
                "properties": {
                  "label": "WAR"
                },
                "start": 18,
                "thickness_factor": 1
              },
              {
                "color": "#607D8B",
                "directed": true,
                "end": 15,
                "id": 1152933599234752500,
                "label": "WAR",
                "properties": {
                  "label": "WAR"
                },
                "start": 18,
                "thickness_factor": 1
              },
              {
                "color": "#607D8B",
                "directed": true,
                "end": 19,
                "id": 1155185399048437800,
                "label": "WAR",
                "properties": {
                  "label": "WAR"
                },
                "start": 18,
                "thickness_factor": 1
              },
              {
                "color": "#673AB7",
                "directed": true,
                "end": 20,
                "id": 1152934698746380300,
                "label": "INFLUENCED",
                "properties": {
                  "label": "INFLUENCED"
                },
                "start": 18,
                "thickness_factor": 1
              },
              {
                "color": "#673AB7",
                "directed": true,
                "end": 21,
                "id": 1155186498560065500,
                "label": "INFLUENCED",
                "properties": {
                  "label": "INFLUENCED"
                },
                "start": 18,
                "thickness_factor": 1
              },
              {
                "color": "#673AB7",
                "directed": true,
                "end": 22,
                "id": 1157438298373750800,
                "label": "INFLUENCED",
                "properties": {
                  "label": "INFLUENCED"
                },
                "start": 18,
                "thickness_factor": 1
              },
              {
                "color": "#673AB7",
                "directed": true,
                "end": 23,
                "id": 1159690098187436000,
                "label": "INFLUENCED",
                "properties": {
                  "label": "INFLUENCED"
                },
                "start": 18,
                "thickness_factor": 1
              },
              {
                "color": "#CDDC39",
                "directed": true,
                "end": 24,
                "id": 1152935798258008000,
                "label": "DEFEATED",
                "properties": {
                  "label": "DEFEATED"
                },
                "start": 18,
                "thickness_factor": 1
              },
              {
                "color": "#F44336",
                "directed": true,
                "end": 43,
                "id": 1152945693862658000,
                "label": "PARENT",
                "properties": {
                  "label": "PARENT"
                },
                "start": 18,
                "thickness_factor": 1
              },
              {
                "color": "#F44336",
                "directed": true,
                "end": 44,
                "id": 1155197493676343300,
                "label": "PARENT",
                "properties": {
                  "label": "PARENT"
                },
                "start": 18,
                "thickness_factor": 1
              },
              {
                "color": "#9E9E9E",
                "directed": true,
                "end": 47,
                "id": 1152948992397541400,
                "label": "RECEIVED_TITLE",
                "properties": {
                  "label": "RECEIVED_TITLE"
                },
                "start": 18,
                "thickness_factor": 1
              },
              {
                "color": "#9C27B0",
                "directed": true,
                "end": 27,
                "id": 1152936897769635800,
                "label": "HELD_TITLE",
                "properties": {
                  "label": "HELD_TITLE"
                },
                "start": 26,
                "thickness_factor": 1
              },
              {
                "color": "#2196F3",
                "directed": true,
                "end": 28,
                "id": 1152937997281263600,
                "label": "DAUGHTER_OF",
                "properties": {
                  "label": "DAUGHTER_OF"
                },
                "start": 26,
                "thickness_factor": 1
              },
              {
                "color": "#2196F3",
                "directed": true,
                "end": 29,
                "id": 1155189797094948900,
                "label": "DAUGHTER_OF",
                "properties": {
                  "label": "DAUGHTER_OF"
                },
                "start": 26,
                "thickness_factor": 1
              },
              {
                "color": "#4CAF50",
                "directed": true,
                "end": 30,
                "id": 1152939096792891400,
                "label": "RELATED_TO",
                "properties": {
                  "label": "RELATED_TO"
                },
                "start": 26,
                "thickness_factor": 1
              },
              {
                "color": "#4CAF50",
                "directed": true,
                "end": 31,
                "id": 1155190896606576600,
                "label": "RELATED_TO",
                "properties": {
                  "label": "RELATED_TO"
                },
                "start": 26,
                "thickness_factor": 1
              },
              {
                "color": "#4CAF50",
                "directed": true,
                "end": 32,
                "id": 1157442696420262000,
                "label": "RELATED_TO",
                "properties": {
                  "label": "RELATED_TO"
                },
                "start": 26,
                "thickness_factor": 1
              },
              {
                "color": "#F44336",
                "directed": true,
                "end": 33,
                "id": 1152940196304519200,
                "label": "DECLARED_AS_HEIR",
                "properties": {
                  "label": "DECLARED_AS_HEIR"
                },
                "start": 26,
                "thickness_factor": 1
              },
              {
                "color": "#607D8B",
                "directed": true,
                "end": 34,
                "id": 1152941295816147000,
                "label": "SUPPORTED_FOUNDATION_OF_UNIVERSITY_OF_MOSCOW",
                "properties": {
                  "label": "SUPPORTED_FOUNDATION_OF_UNIVERSITY_OF_MOSCOW"
                },
                "start": 26,
                "thickness_factor": 1
              },
              {
                "color": "#673AB7",
                "directed": true,
                "end": 35,
                "id": 1152942395327774700,
                "label": "ENCOURAGED_FOUNDATION_OF_IMPERIAL_ACADEMY_OF_ARTS",
                "properties": {
                  "label": "ENCOURAGED_FOUNDATION_OF_IMPERIAL_ACADEMY_OF_ARTS"
                },
                "start": 26,
                "thickness_factor": 1
              },
              {
                "color": "#CDDC39",
                "directed": true,
                "end": 36,
                "id": 1152943494839402500,
                "label": "SUPPORTED_ARCHITECTURAL_PROJECTS_BY",
                "properties": {
                  "label": "SUPPORTED_ARCHITECTURAL_PROJECTS_BY"
                },
                "start": 26,
                "thickness_factor": 1
              },
              {
                "color": "#9E9E9E",
                "directed": true,
                "end": 37,
                "id": 1152944594351030300,
                "label": "SOLVED_EUROPEAN_CONFLICT_WITH",
                "properties": {
                  "label": "SOLVED_EUROPEAN_CONFLICT_WITH"
                },
                "start": 26,
                "thickness_factor": 1
              },
              {
                "color": "#F44336",
                "directed": true,
                "end": 43,
                "id": 6924308616337949000,
                "label": "PARENT",
                "properties": {
                  "label": "PARENT"
                },
                "start": 31,
                "thickness_factor": 1
              }
            ],
            "_graph_layout": {},
            "_highlight": [],
            "_license": {},
            "_model_module": "yfiles-jupyter-graphs",
            "_model_module_version": "^1.6.2",
            "_model_name": "GraphModel",
            "_neighborhood": {},
            "_nodes": [
              {
                "color": "#2196F3",
                "id": 1,
                "label": "Elizabeth I",
                "position": [
                  0,
                  0
                ],
                "properties": {
                  "id": "Elizabeth I",
                  "label": "Person:__Entity__"
                },
                "scale_factor": 1,
                "size": [
                  55,
                  55
                ],
                "styles": {},
                "type": "#2196F3"
              },
              {
                "color": "#4CAF50",
                "id": 2,
                "label": "England",
                "position": [
                  0,
                  0
                ],
                "properties": {
                  "id": "England",
                  "label": "Country:__Entity__"
                },
                "scale_factor": 1,
                "size": [
                  55,
                  55
                ],
                "styles": {},
                "type": "#4CAF50"
              },
              {
                "color": "#4CAF50",
                "id": 3,
                "label": "Ireland",
                "position": [
                  0,
                  0
                ],
                "properties": {
                  "id": "Ireland",
                  "label": "Country:__Entity__"
                },
                "scale_factor": 1,
                "size": [
                  55,
                  55
                ],
                "styles": {},
                "type": "#4CAF50"
              },
              {
                "color": "#F44336",
                "id": 4,
                "label": "House Of Tudor",
                "position": [
                  0,
                  0
                ],
                "properties": {
                  "id": "House Of Tudor",
                  "label": "Royal family:__Entity__"
                },
                "scale_factor": 1,
                "size": [
                  55,
                  55
                ],
                "styles": {},
                "type": "#F44336"
              },
              {
                "color": "#2196F3",
                "id": 5,
                "label": "Henry Viii",
                "position": [
                  0,
                  0
                ],
                "properties": {
                  "id": "Henry Viii",
                  "label": "Person:__Entity__"
                },
                "scale_factor": 1,
                "size": [
                  55,
                  55
                ],
                "styles": {},
                "type": "#2196F3"
              },
              {
                "color": "#2196F3",
                "id": 6,
                "label": "Anne Boleyn",
                "position": [
                  0,
                  0
                ],
                "properties": {
                  "id": "Anne Boleyn",
                  "label": "Person:__Entity__"
                },
                "scale_factor": 1,
                "size": [
                  55,
                  55
                ],
                "styles": {},
                "type": "#2196F3"
              },
              {
                "color": "#2196F3",
                "id": 7,
                "label": "Edward Vi",
                "position": [
                  0,
                  0
                ],
                "properties": {
                  "id": "Edward Vi",
                  "label": "Person:__Entity__"
                },
                "scale_factor": 1,
                "size": [
                  55,
                  55
                ],
                "styles": {},
                "type": "#2196F3"
              },
              {
                "color": "#2196F3",
                "id": 9,
                "label": "Mary",
                "position": [
                  0,
                  0
                ],
                "properties": {
                  "id": "Mary",
                  "label": "Person:__Entity__"
                },
                "scale_factor": 1,
                "size": [
                  55,
                  55
                ],
                "styles": {},
                "type": "#2196F3"
              },
              {
                "color": "#2196F3",
                "id": 8,
                "label": "Lady Jane Grey",
                "position": [
                  0,
                  0
                ],
                "properties": {
                  "id": "Lady Jane Grey",
                  "label": "Person:__Entity__"
                },
                "scale_factor": 1,
                "size": [
                  55,
                  55
                ],
                "styles": {},
                "type": "#2196F3"
              },
              {
                "color": "#2196F3",
                "id": 10,
                "label": "William Cecil",
                "position": [
                  0,
                  0
                ],
                "properties": {
                  "id": "William Cecil",
                  "label": "Person:__Entity__"
                },
                "scale_factor": 1,
                "size": [
                  55,
                  55
                ],
                "styles": {},
                "type": "#2196F3"
              },
              {
                "color": "#2196F3",
                "id": 16,
                "label": "Sir Francis Walsingham",
                "position": [
                  0,
                  0
                ],
                "properties": {
                  "id": "Sir Francis Walsingham",
                  "label": "Person:__Entity__"
                },
                "scale_factor": 1,
                "size": [
                  55,
                  55
                ],
                "styles": {},
                "type": "#2196F3"
              },
              {
                "color": "#607D8B",
                "id": 11,
                "label": "Baron Burghley",
                "position": [
                  0,
                  0
                ],
                "properties": {
                  "id": "Baron Burghley",
                  "label": "Title:__Entity__"
                },
                "scale_factor": 1,
                "size": [
                  55,
                  55
                ],
                "styles": {},
                "type": "#607D8B"
              },
              {
                "color": "#2196F3",
                "id": 12,
                "label": "James Vi Of Scotland",
                "position": [
                  0,
                  0
                ],
                "properties": {
                  "id": "James Vi Of Scotland",
                  "label": "Person:__Entity__"
                },
                "scale_factor": 1,
                "size": [
                  55,
                  55
                ],
                "styles": {},
                "type": "#2196F3"
              },
              {
                "color": "#2196F3",
                "id": 13,
                "label": "Mary, Queen Of Scots",
                "position": [
                  0,
                  0
                ],
                "properties": {
                  "id": "Mary, Queen Of Scots",
                  "label": "Person:__Entity__"
                },
                "scale_factor": 1,
                "size": [
                  55,
                  55
                ],
                "styles": {},
                "type": "#2196F3"
              },
              {
                "color": "#4CAF50",
                "id": 14,
                "label": "France",
                "position": [
                  0,
                  0
                ],
                "properties": {
                  "id": "France",
                  "label": "Country:__Entity__"
                },
                "scale_factor": 1,
                "size": [
                  55,
                  55
                ],
                "styles": {},
                "type": "#4CAF50"
              },
              {
                "color": "#4CAF50",
                "id": 15,
                "label": "Spain",
                "position": [
                  0,
                  0
                ],
                "properties": {
                  "id": "Spain",
                  "label": "Country:__Entity__"
                },
                "scale_factor": 1,
                "size": [
                  55,
                  55
                ],
                "styles": {},
                "type": "#4CAF50"
              },
              {
                "color": "#2196F3",
                "id": 54,
                "label": "Mary I",
                "position": [
                  0,
                  0
                ],
                "properties": {
                  "id": "Mary I",
                  "label": "Person:__Entity__"
                },
                "scale_factor": 1,
                "size": [
                  55,
                  55
                ],
                "styles": {},
                "type": "#2196F3"
              },
              {
                "color": "#2196F3",
                "id": 55,
                "label": "Jane Grey",
                "position": [
                  0,
                  0
                ],
                "properties": {
                  "id": "Jane Grey",
                  "label": "Person:__Entity__"
                },
                "scale_factor": 1,
                "size": [
                  55,
                  55
                ],
                "styles": {},
                "type": "#2196F3"
              },
              {
                "color": "#2196F3",
                "id": 56,
                "label": "Katherine Grey",
                "position": [
                  0,
                  0
                ],
                "properties": {
                  "id": "Katherine Grey",
                  "label": "Person:__Entity__"
                },
                "scale_factor": 1,
                "size": [
                  55,
                  55
                ],
                "styles": {},
                "type": "#2196F3"
              },
              {
                "color": "#2196F3",
                "id": 57,
                "label": "Mary Grey",
                "position": [
                  0,
                  0
                ],
                "properties": {
                  "id": "Mary Grey",
                  "label": "Person:__Entity__"
                },
                "scale_factor": 1,
                "size": [
                  55,
                  55
                ],
                "styles": {},
                "type": "#2196F3"
              },
              {
                "color": "#2196F3",
                "id": 58,
                "label": "Margaret Clifford",
                "position": [
                  0,
                  0
                ],
                "properties": {
                  "id": "Margaret Clifford",
                  "label": "Person:__Entity__"
                },
                "scale_factor": 1,
                "size": [
                  55,
                  55
                ],
                "styles": {},
                "type": "#2196F3"
              },
              {
                "color": "#2196F3",
                "id": 63,
                "label": "Arbella Stuart",
                "position": [
                  0,
                  0
                ],
                "properties": {
                  "id": "Arbella Stuart",
                  "label": "Person:__Entity__"
                },
                "scale_factor": 1,
                "size": [
                  55,
                  55
                ],
                "styles": {},
                "type": "#2196F3"
              },
              {
                "color": "#2196F3",
                "id": 65,
                "label": "James Vi",
                "position": [
                  0,
                  0
                ],
                "properties": {
                  "id": "James Vi",
                  "label": "Person:__Entity__"
                },
                "scale_factor": 1,
                "size": [
                  55,
                  55
                ],
                "styles": {},
                "type": "#2196F3"
              },
              {
                "color": "#2196F3",
                "id": 18,
                "label": "Elizabeth",
                "position": [
                  0,
                  0
                ],
                "properties": {
                  "id": "Elizabeth",
                  "label": "Person:__Entity__"
                },
                "scale_factor": 1,
                "size": [
                  55,
                  55
                ],
                "styles": {},
                "type": "#2196F3"
              },
              {
                "color": "#4CAF50",
                "id": 19,
                "label": "Netherlands",
                "position": [
                  0,
                  0
                ],
                "properties": {
                  "id": "Netherlands",
                  "label": "Country:__Entity__"
                },
                "scale_factor": 1,
                "size": [
                  55,
                  55
                ],
                "styles": {},
                "type": "#4CAF50"
              },
              {
                "color": "#673AB7",
                "id": 20,
                "label": "William Shakespeare",
                "position": [
                  0,
                  0
                ],
                "properties": {
                  "id": "William Shakespeare",
                  "label": "Playwright:__Entity__"
                },
                "scale_factor": 1,
                "size": [
                  55,
                  55
                ],
                "styles": {},
                "type": "#673AB7"
              },
              {
                "color": "#673AB7",
                "id": 21,
                "label": "Christopher Marlowe",
                "position": [
                  0,
                  0
                ],
                "properties": {
                  "id": "Christopher Marlowe",
                  "label": "Playwright:__Entity__"
                },
                "scale_factor": 1,
                "size": [
                  55,
                  55
                ],
                "styles": {},
                "type": "#673AB7"
              },
              {
                "color": "#CDDC39",
                "id": 22,
                "label": "Francis Drake",
                "position": [
                  0,
                  0
                ],
                "properties": {
                  "id": "Francis Drake",
                  "label": "Maritime adventurer:__Entity__"
                },
                "scale_factor": 1,
                "size": [
                  55,
                  55
                ],
                "styles": {},
                "type": "#CDDC39"
              },
              {
                "color": "#CDDC39",
                "id": 23,
                "label": "Walter Raleigh",
                "position": [
                  0,
                  0
                ],
                "properties": {
                  "id": "Walter Raleigh",
                  "label": "Maritime adventurer:__Entity__"
                },
                "scale_factor": 1,
                "size": [
                  55,
                  55
                ],
                "styles": {},
                "type": "#CDDC39"
              },
              {
                "color": "#9E9E9E",
                "id": 24,
                "label": "Spanish Armada",
                "position": [
                  0,
                  0
                ],
                "properties": {
                  "id": "Spanish Armada",
                  "label": "Event:__Entity__"
                },
                "scale_factor": 1,
                "size": [
                  55,
                  55
                ],
                "styles": {},
                "type": "#9E9E9E"
              },
              {
                "color": "#2196F3",
                "id": 43,
                "label": "Peter The Great",
                "position": [
                  0,
                  0
                ],
                "properties": {
                  "id": "Peter The Great",
                  "label": "Person:__Entity__"
                },
                "scale_factor": 1,
                "size": [
                  55,
                  55
                ],
                "styles": {},
                "type": "#2196F3"
              },
              {
                "color": "#2196F3",
                "id": 44,
                "label": "Catherine",
                "position": [
                  0,
                  0
                ],
                "properties": {
                  "id": "Catherine",
                  "label": "Person:__Entity__"
                },
                "scale_factor": 1,
                "size": [
                  55,
                  55
                ],
                "styles": {},
                "type": "#2196F3"
              },
              {
                "color": "#607D8B",
                "id": 47,
                "label": "Tsarevna",
                "position": [
                  0,
                  0
                ],
                "properties": {
                  "id": "Tsarevna",
                  "label": "Title:__Entity__"
                },
                "scale_factor": 1,
                "size": [
                  55,
                  55
                ],
                "styles": {},
                "type": "#607D8B"
              },
              {
                "color": "#2196F3",
                "id": 26,
                "label": "Elizabeth Petrovna",
                "position": [
                  0,
                  0
                ],
                "properties": {
                  "id": "Elizabeth Petrovna",
                  "label": "Person:__Entity__"
                },
                "scale_factor": 1,
                "size": [
                  55,
                  55
                ],
                "styles": {},
                "type": "#2196F3"
              },
              {
                "color": "#607D8B",
                "id": 27,
                "label": "Empress Of Russia",
                "position": [
                  0,
                  0
                ],
                "properties": {
                  "id": "Empress Of Russia",
                  "label": "Title:__Entity__"
                },
                "scale_factor": 1,
                "size": [
                  55,
                  55
                ],
                "styles": {},
                "type": "#607D8B"
              },
              {
                "color": "#2196F3",
                "id": 28,
                "label": "Tsar Peter The Great",
                "position": [
                  0,
                  0
                ],
                "properties": {
                  "id": "Tsar Peter The Great",
                  "label": "Person:__Entity__"
                },
                "scale_factor": 1,
                "size": [
                  55,
                  55
                ],
                "styles": {},
                "type": "#2196F3"
              },
              {
                "color": "#2196F3",
                "id": 29,
                "label": "Catherine I Of Russia",
                "position": [
                  0,
                  0
                ],
                "properties": {
                  "id": "Catherine I Of Russia",
                  "label": "Person:__Entity__"
                },
                "scale_factor": 1,
                "size": [
                  55,
                  55
                ],
                "styles": {},
                "type": "#2196F3"
              },
              {
                "color": "#2196F3",
                "id": 30,
                "label": "Peter Ii",
                "position": [
                  0,
                  0
                ],
                "properties": {
                  "id": "Peter Ii",
                  "label": "Person:__Entity__"
                },
                "scale_factor": 1,
                "size": [
                  55,
                  55
                ],
                "styles": {},
                "type": "#2196F3"
              },
              {
                "color": "#2196F3",
                "id": 31,
                "label": "Anna",
                "position": [
                  0,
                  0
                ],
                "properties": {
                  "id": "Anna",
                  "label": "Person:__Entity__"
                },
                "scale_factor": 1,
                "size": [
                  55,
                  55
                ],
                "styles": {},
                "type": "#2196F3"
              },
              {
                "color": "#2196F3",
                "id": 32,
                "label": "Ivan Vi",
                "position": [
                  0,
                  0
                ],
                "properties": {
                  "id": "Ivan Vi",
                  "label": "Person:__Entity__"
                },
                "scale_factor": 1,
                "size": [
                  55,
                  55
                ],
                "styles": {},
                "type": "#2196F3"
              },
              {
                "color": "#2196F3",
                "id": 33,
                "label": "Peter Iii",
                "position": [
                  0,
                  0
                ],
                "properties": {
                  "id": "Peter Iii",
                  "label": "Person:__Entity__"
                },
                "scale_factor": 1,
                "size": [
                  55,
                  55
                ],
                "styles": {},
                "type": "#2196F3"
              },
              {
                "color": "#2196F3",
                "id": 34,
                "label": "Mikhail Lomonosov",
                "position": [
                  0,
                  0
                ],
                "properties": {
                  "id": "Mikhail Lomonosov",
                  "label": "Person:__Entity__"
                },
                "scale_factor": 1,
                "size": [
                  55,
                  55
                ],
                "styles": {},
                "type": "#2196F3"
              },
              {
                "color": "#2196F3",
                "id": 35,
                "label": "Ivan Shuvalov",
                "position": [
                  0,
                  0
                ],
                "properties": {
                  "id": "Ivan Shuvalov",
                  "label": "Person:__Entity__"
                },
                "scale_factor": 1,
                "size": [
                  55,
                  55
                ],
                "styles": {},
                "type": "#2196F3"
              },
              {
                "color": "#2196F3",
                "id": 36,
                "label": "Bartolomeo Rastrelli",
                "position": [
                  0,
                  0
                ],
                "properties": {
                  "id": "Bartolomeo Rastrelli",
                  "label": "Person:__Entity__"
                },
                "scale_factor": 1,
                "size": [
                  55,
                  55
                ],
                "styles": {},
                "type": "#2196F3"
              },
              {
                "color": "#2196F3",
                "id": 37,
                "label": "Aleksey Bestuzhev-Ryumin",
                "position": [
                  0,
                  0
                ],
                "properties": {
                  "id": "Aleksey Bestuzhev-Ryumin",
                  "label": "Person:__Entity__"
                },
                "scale_factor": 1,
                "size": [
                  55,
                  55
                ],
                "styles": {},
                "type": "#2196F3"
              }
            ],
            "_overview": {
              "enabled": null,
              "overview_set": false
            },
            "_selected_graph": [
              [],
              []
            ],
            "_sidebar": {
              "enabled": true,
              "start_with": ""
            },
            "_view_count": null,
            "_view_module": "yfiles-jupyter-graphs",
            "_view_module_version": "^1.6.2",
            "_view_name": "GraphView",
            "layout": "IPY_MODEL_5caa1675fb9b47e89ceeab4a5aabb705"
          }
        }
      }
    }
  },
  "nbformat": 4,
  "nbformat_minor": 0
}
